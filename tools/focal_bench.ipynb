{
 "cells": [
  {
   "cell_type": "markdown",
   "id": "c4c0a7eb-262d-44db-89a3-ea87f8435064",
   "metadata": {},
   "source": [
    "### FOCAL BENCHMARKING"
   ]
  },
  {
   "cell_type": "code",
   "execution_count": null,
   "id": "76d21af2-04d3-44c7-a6ff-b729dff77948",
   "metadata": {},
   "outputs": [],
   "source": []
  }
 ],
 "metadata": {
  "kernelspec": {
   "display_name": "Python 3 (ipykernel)",
   "language": "python",
   "name": "python3"
  },
  "language_info": {
   "codemirror_mode": {
    "name": "ipython",
    "version": 3
   },
   "file_extension": ".py",
   "mimetype": "text/x-python",
   "name": "python",
   "nbconvert_exporter": "python",
   "pygments_lexer": "ipython3",
   "version": "3.8.18"
  }
 },
 "nbformat": 4,
 "nbformat_minor": 5
}
