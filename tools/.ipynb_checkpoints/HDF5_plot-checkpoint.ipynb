{
 "cells": [
  {
   "cell_type": "code",
   "execution_count": 1,
   "id": "8f7a0b0b-b6b0-45fa-b126-42e95ee42600",
   "metadata": {},
   "outputs": [],
   "source": [
    "import h5py\n",
    "import numpy as np\n",
    "import os.path\n",
    "import plotly.graph_objects as go\n",
    "import plotly.io as pio\n",
    "import plotly.express as px\n",
    "import os\n",
    "from PIL import Image\n",
    "import imageio.v2 as imageio\n",
    "import pandas as pd\n",
    "import matplotlib.pyplot as plt\n",
    "pio.renderers.default = 'browser'"
   ]
  },
  {
   "cell_type": "markdown",
   "id": "518a3670-5e79-406f-993f-98f3969fc3b6",
   "metadata": {},
   "source": [
    "## Read HDF5 file"
   ]
  },
  {
   "cell_type": "code",
   "execution_count": 2,
   "id": "a05e7591-c351-40f9-988c-e0aae6376225",
   "metadata": {},
   "outputs": [
    {
     "name": "stdout",
     "output_type": "stream",
     "text": [
      "B0x : <class 'h5py._hl.dataset.Dataset'>\n",
      "B0y : <class 'h5py._hl.dataset.Dataset'>\n",
      "B0z : <class 'h5py._hl.dataset.Dataset'>\n",
      "E_abs__tint00025 : <class 'h5py._hl.dataset.Dataset'>\n",
      "E_abs__tint00050 : <class 'h5py._hl.dataset.Dataset'>\n",
      "E_abs__tint00075 : <class 'h5py._hl.dataset.Dataset'>\n",
      "E_abs__tint00100 : <class 'h5py._hl.dataset.Dataset'>\n",
      "E_abs__tint00125 : <class 'h5py._hl.dataset.Dataset'>\n",
      "E_abs__tint00150 : <class 'h5py._hl.dataset.Dataset'>\n",
      "E_abs__tint00175 : <class 'h5py._hl.dataset.Dataset'>\n",
      "E_abs__tint00200 : <class 'h5py._hl.dataset.Dataset'>\n",
      "E_abs__tint00225 : <class 'h5py._hl.dataset.Dataset'>\n",
      "E_abs__tint00250 : <class 'h5py._hl.dataset.Dataset'>\n",
      "E_abs__tint00275 : <class 'h5py._hl.dataset.Dataset'>\n",
      "E_abs__tint00300 : <class 'h5py._hl.dataset.Dataset'>\n",
      "E_abs__tint00325 : <class 'h5py._hl.dataset.Dataset'>\n",
      "E_abs__tint00350 : <class 'h5py._hl.dataset.Dataset'>\n",
      "E_abs__tint00375 : <class 'h5py._hl.dataset.Dataset'>\n",
      "E_abs__tint00400 : <class 'h5py._hl.dataset.Dataset'>\n",
      "E_abs__tint00425 : <class 'h5py._hl.dataset.Dataset'>\n",
      "E_abs__tint00450 : <class 'h5py._hl.dataset.Dataset'>\n",
      "E_abs__tint00475 : <class 'h5py._hl.dataset.Dataset'>\n",
      "E_abs__tint00500 : <class 'h5py._hl.dataset.Dataset'>\n",
      "E_abs__tint00525 : <class 'h5py._hl.dataset.Dataset'>\n",
      "E_abs__tint00550 : <class 'h5py._hl.dataset.Dataset'>\n",
      "E_abs__tint00575 : <class 'h5py._hl.dataset.Dataset'>\n",
      "E_abs__tint00600 : <class 'h5py._hl.dataset.Dataset'>\n",
      "E_abs__tint00625 : <class 'h5py._hl.dataset.Dataset'>\n",
      "E_abs__tint00650 : <class 'h5py._hl.dataset.Dataset'>\n",
      "E_abs__tint00675 : <class 'h5py._hl.dataset.Dataset'>\n",
      "E_abs__tint00700 : <class 'h5py._hl.dataset.Dataset'>\n",
      "E_abs__tint00725 : <class 'h5py._hl.dataset.Dataset'>\n",
      "E_abs__tint00750 : <class 'h5py._hl.dataset.Dataset'>\n",
      "E_abs__tint00775 : <class 'h5py._hl.dataset.Dataset'>\n",
      "E_abs__tint00800 : <class 'h5py._hl.dataset.Dataset'>\n",
      "E_abs__tint00825 : <class 'h5py._hl.dataset.Dataset'>\n",
      "E_abs__tint00850 : <class 'h5py._hl.dataset.Dataset'>\n",
      "E_abs__tint00875 : <class 'h5py._hl.dataset.Dataset'>\n",
      "E_abs__tint00900 : <class 'h5py._hl.dataset.Dataset'>\n",
      "E_abs__tint00925 : <class 'h5py._hl.dataset.Dataset'>\n",
      "E_abs__tint00950 : <class 'h5py._hl.dataset.Dataset'>\n",
      "E_abs__tint00975 : <class 'h5py._hl.dataset.Dataset'>\n",
      "E_abs__tint01000 : <class 'h5py._hl.dataset.Dataset'>\n",
      "E_abs__tint01025 : <class 'h5py._hl.dataset.Dataset'>\n",
      "E_abs__tint01050 : <class 'h5py._hl.dataset.Dataset'>\n",
      "E_abs__tint01075 : <class 'h5py._hl.dataset.Dataset'>\n",
      "E_abs__tint01100 : <class 'h5py._hl.dataset.Dataset'>\n",
      "E_abs__tint01125 : <class 'h5py._hl.dataset.Dataset'>\n",
      "E_abs__tint01150 : <class 'h5py._hl.dataset.Dataset'>\n",
      "E_abs__tint01175 : <class 'h5py._hl.dataset.Dataset'>\n",
      "E_abs__tint01200 : <class 'h5py._hl.dataset.Dataset'>\n",
      "E_abs__tint01225 : <class 'h5py._hl.dataset.Dataset'>\n",
      "E_abs__tint01250 : <class 'h5py._hl.dataset.Dataset'>\n",
      "config : <class 'h5py._hl.group.Group'>\n",
      "detAnt_01 : <class 'h5py._hl.group.Group'>\n",
      "detAnt_02 : <class 'h5py._hl.group.Group'>\n",
      "n_e : <class 'h5py._hl.dataset.Dataset'>\n"
     ]
    }
   ],
   "source": [
    "f = h5py.File(\"fileout.h5\", \"r\")\n",
    "for key in f.keys():\n",
    "    print(key, \":\", type(f[key])) #Names of the root level object names in HDF5 file - can be groups or datasets."
   ]
  },
  {
   "cell_type": "code",
   "execution_count": 3,
   "id": "41562327-b737-4a94-ad87-8ce140789cbf",
   "metadata": {},
   "outputs": [
    {
     "name": "stdout",
     "output_type": "stream",
     "text": [
      "N_x : <class 'h5py._hl.dataset.Dataset'>\n",
      "N_y : <class 'h5py._hl.dataset.Dataset'>\n",
      "N_z : <class 'h5py._hl.dataset.Dataset'>\n",
      "ant_w0x : <class 'h5py._hl.dataset.Dataset'>\n",
      "ant_w0y : <class 'h5py._hl.dataset.Dataset'>\n",
      "ant_x : <class 'h5py._hl.dataset.Dataset'>\n",
      "ant_y : <class 'h5py._hl.dataset.Dataset'>\n",
      "ant_z : <class 'h5py._hl.dataset.Dataset'>\n",
      "d_absorb : <class 'h5py._hl.dataset.Dataset'>\n",
      "period : <class 'h5py._hl.dataset.Dataset'>\n",
      "z2waist : <class 'h5py._hl.dataset.Dataset'>\n"
     ]
    }
   ],
   "source": [
    "for key in f[\"config\"].keys():\n",
    "    print(key, \":\",type(f[\"config\"][key])) #Names of the root level object names in HDF5 file - can be groups or datasets."
   ]
  },
  {
   "cell_type": "code",
   "execution_count": 4,
   "id": "a126399d-0faf-4f62-b3f6-5c36d519d508",
   "metadata": {},
   "outputs": [
    {
     "data": {
      "text/plain": [
       "25"
      ]
     },
     "execution_count": 4,
     "metadata": {},
     "output_type": "execute_result"
    }
   ],
   "source": [
    "period = f[\"config\"][\"period\"][0]\n",
    "period"
   ]
  },
  {
   "cell_type": "markdown",
   "id": "9ecce7c2-ee40-4954-99f8-9046b07e5d5d",
   "metadata": {},
   "source": [
    "## Plot data HDF5(2D): Electric field"
   ]
  },
  {
   "cell_type": "markdown",
   "id": "d2def026-8ed2-4d0b-a0b6-01d8ea5518cf",
   "metadata": {},
   "source": [
    "'aggrnyl', 'agsunset', 'algae', 'amp', 'armyrose', 'balance',\n",
    "             'blackbody', 'bluered', 'blues', 'blugrn', 'bluyl', 'brbg',\n",
    "             'brwnyl', 'bugn', 'bupu', 'burg', 'burgyl', 'cividis', 'curl',\n",
    "             'darkmint', 'deep', 'delta', 'dense', 'earth', 'edge', 'electric',\n",
    "             'emrld', 'fall', 'geyser', 'gnbu', 'gray', 'greens', 'greys',\n",
    "             'haline', 'hot', 'hsv', 'ice', 'icefire', 'inferno', 'jet',\n",
    "             'magenta', 'magma', 'matter', 'mint', 'mrybm', 'mygbm', 'oranges',\n",
    "             'orrd', 'oryel', 'oxy', 'peach', 'phase', 'picnic', 'pinkyl',\n",
    "             'piyg', 'plasma', 'plotly3', 'portland', 'prgn', 'pubu', 'pubugn',\n",
    "             'puor', 'purd', 'purp', 'purples', 'purpor', 'rainbow', 'rdbu',\n",
    "             'rdgy', 'rdpu', 'rdylbu', 'rdylgn', 'redor', 'reds', 'solar',\n",
    "             'spectral', 'speed', 'sunset', 'sunsetdark', 'teal', 'tealgrn',\n",
    "             'tealrose', 'tempo', 'temps', 'thermal', 'tropic', 'turbid',\n",
    "             'turbo', 'twilight', 'viridis', 'ylgn', 'ylgnbu', 'ylorbr',\n",
    "             'ylorrd'"
   ]
  },
  {
   "cell_type": "code",
   "execution_count": 11,
   "id": "6c4ccd5f-c858-4628-a598-c6dd6c5e96e4",
   "metadata": {},
   "outputs": [
    {
     "ename": "KeyError",
     "evalue": "\"Unable to open object (object 'E_abs__tint00016' doesn't exist)\"",
     "output_type": "error",
     "traceback": [
      "\u001b[0;31m---------------------------------------------------------------------------\u001b[0m",
      "\u001b[0;31mKeyError\u001b[0m                                  Traceback (most recent call last)",
      "Cell \u001b[0;32mIn[11], line 7\u001b[0m\n\u001b[1;32m      5\u001b[0m \u001b[38;5;28;01mfor\u001b[39;00m i \u001b[38;5;129;01min\u001b[39;00m \u001b[38;5;28mrange\u001b[39m(\u001b[38;5;241m1\u001b[39m,\u001b[38;5;241m51\u001b[39m):\n\u001b[1;32m      6\u001b[0m     \u001b[38;5;28;01mif\u001b[39;00m(i \u001b[38;5;241m<\u001b[39m\u001b[38;5;241m=\u001b[39m \u001b[38;5;241m3\u001b[39m):\n\u001b[0;32m----> 7\u001b[0m         E_field_ds \u001b[38;5;241m=\u001b[39m \u001b[43mf\u001b[49m\u001b[43m[\u001b[49m\u001b[38;5;124;43mf\u001b[39;49m\u001b[38;5;124;43m'\u001b[39;49m\u001b[38;5;124;43mE_abs__tint000\u001b[39;49m\u001b[38;5;132;43;01m{\u001b[39;49;00m\u001b[38;5;241;43m16\u001b[39;49m\u001b[38;5;241;43m*\u001b[39;49m\u001b[43mi\u001b[49m\u001b[38;5;132;43;01m}\u001b[39;49;00m\u001b[38;5;124;43m'\u001b[39;49m\u001b[43m]\u001b[49m[:]\n\u001b[1;32m      8\u001b[0m     \u001b[38;5;28;01melse\u001b[39;00m:\n\u001b[1;32m      9\u001b[0m         E_field_ds \u001b[38;5;241m=\u001b[39m f[\u001b[38;5;124mf\u001b[39m\u001b[38;5;124m'\u001b[39m\u001b[38;5;124mE_abs__tint00\u001b[39m\u001b[38;5;132;01m{\u001b[39;00m\u001b[38;5;241m16\u001b[39m\u001b[38;5;241m*\u001b[39mi\u001b[38;5;132;01m}\u001b[39;00m\u001b[38;5;124m'\u001b[39m][:]\n",
      "File \u001b[0;32mh5py/_objects.pyx:54\u001b[0m, in \u001b[0;36mh5py._objects.with_phil.wrapper\u001b[0;34m()\u001b[0m\n",
      "File \u001b[0;32mh5py/_objects.pyx:55\u001b[0m, in \u001b[0;36mh5py._objects.with_phil.wrapper\u001b[0;34m()\u001b[0m\n",
      "File \u001b[0;32m~/miniconda3/envs/Science/lib/python3.8/site-packages/h5py/_hl/group.py:264\u001b[0m, in \u001b[0;36mGroup.__getitem__\u001b[0;34m(self, name)\u001b[0m\n\u001b[1;32m    262\u001b[0m         \u001b[38;5;28;01mraise\u001b[39;00m \u001b[38;5;167;01mValueError\u001b[39;00m(\u001b[38;5;124m\"\u001b[39m\u001b[38;5;124mInvalid HDF5 object reference\u001b[39m\u001b[38;5;124m\"\u001b[39m)\n\u001b[1;32m    263\u001b[0m \u001b[38;5;28;01melse\u001b[39;00m:\n\u001b[0;32m--> 264\u001b[0m     oid \u001b[38;5;241m=\u001b[39m \u001b[43mh5o\u001b[49m\u001b[38;5;241;43m.\u001b[39;49m\u001b[43mopen\u001b[49m\u001b[43m(\u001b[49m\u001b[38;5;28;43mself\u001b[39;49m\u001b[38;5;241;43m.\u001b[39;49m\u001b[43mid\u001b[49m\u001b[43m,\u001b[49m\u001b[43m \u001b[49m\u001b[38;5;28;43mself\u001b[39;49m\u001b[38;5;241;43m.\u001b[39;49m\u001b[43m_e\u001b[49m\u001b[43m(\u001b[49m\u001b[43mname\u001b[49m\u001b[43m)\u001b[49m\u001b[43m,\u001b[49m\u001b[43m \u001b[49m\u001b[43mlapl\u001b[49m\u001b[38;5;241;43m=\u001b[39;49m\u001b[38;5;28;43mself\u001b[39;49m\u001b[38;5;241;43m.\u001b[39;49m\u001b[43m_lapl\u001b[49m\u001b[43m)\u001b[49m\n\u001b[1;32m    266\u001b[0m otype \u001b[38;5;241m=\u001b[39m h5i\u001b[38;5;241m.\u001b[39mget_type(oid)\n\u001b[1;32m    267\u001b[0m \u001b[38;5;28;01mif\u001b[39;00m otype \u001b[38;5;241m==\u001b[39m h5i\u001b[38;5;241m.\u001b[39mGROUP:\n",
      "File \u001b[0;32mh5py/_objects.pyx:54\u001b[0m, in \u001b[0;36mh5py._objects.with_phil.wrapper\u001b[0;34m()\u001b[0m\n",
      "File \u001b[0;32mh5py/_objects.pyx:55\u001b[0m, in \u001b[0;36mh5py._objects.with_phil.wrapper\u001b[0;34m()\u001b[0m\n",
      "File \u001b[0;32mh5py/h5o.pyx:190\u001b[0m, in \u001b[0;36mh5py.h5o.open\u001b[0;34m()\u001b[0m\n",
      "\u001b[0;31mKeyError\u001b[0m: \"Unable to open object (object 'E_abs__tint00016' doesn't exist)\""
     ]
    }
   ],
   "source": [
    "x_slice = 100\n",
    "output_gif = \"simulation_PML_test.gif\"\n",
    "images = []\n",
    "\n",
    "for i in range(1,51):\n",
    "    if(i <= 3):\n",
    "        E_field_ds = f[f'E_abs__tint000{16*i}'][:]\n",
    "    else:\n",
    "        E_field_ds = f[f'E_abs__tint00{16*i}'][:]\n",
    "    sliced_data = E_field_ds[x_slice, :, :]\n",
    "\n",
    "    fig = go.Figure( data=go.Heatmap(\n",
    "        z = sliced_data,     # Flattened volume data\n",
    "        colorscale='delta',                 # Choose a colorscale\n",
    "        zmin=0,\n",
    "        zmax=2\n",
    "    ))\n",
    "    \n",
    "    # Update layout\n",
    "    fig.update_layout(\n",
    "        title=f\"Abs(E) = {i}\",\n",
    "        xaxis_title=\"Z\",\n",
    "        yaxis_title=\"Y\",\n",
    "    )\n",
    "    \n",
    "    # Show the plot\n",
    "    #pio.write_image(fig, f\"{folder_path}/E_field(t)={i}\", format=\"png\")\n",
    "    img_bytes = fig.to_image(format=\"png\",width=1600,height=1200)\n",
    "    img = imageio.imread(img_bytes)\n",
    "    images.append(img)\n",
    "    #fig.show()\n",
    "\n",
    "imageio.mimsave(f'{output_gif}', images, duration=200)"
   ]
  },
  {
   "cell_type": "code",
   "execution_count": 5,
   "id": "e78a339b-3d82-4a9a-b701-8d7090f9507d",
   "metadata": {},
   "outputs": [],
   "source": [
    "x_slice = 50\n",
    "y_slice = 50\n",
    "output_gif = \"Nagoya_projection_B=0.gif\"\n",
    "images = []\n",
    "offset = 1e-16\n",
    "\n",
    "for i in range(1,51):\n",
    "    if( period*i < 100):\n",
    "        E_field_ds = f[f'E_abs__tint000{period*i}'][:]\n",
    "    elif( period*i >= 100 and period*i < 1000 ):\n",
    "        E_field_ds = f[f'E_abs__tint00{period*i}'][:]\n",
    "    else:\n",
    "        E_field_ds = f[f'E_abs__tint0{period*i}'][:]\n",
    "        \n",
    "    sliced_data = E_field_ds[:, y_slice, :]\n",
    "    z_log = np.log(sliced_data + offset)\n",
    "\n",
    "    fig = go.Figure( data=go.Heatmap(\n",
    "        z = z_log,     # Flattened volume data\n",
    "        #z = sliced_data,\n",
    "        colorscale='jet',                 # Choose a colorscale\n",
    "        zmin=np.min( np.log10(1e-10) ),\n",
    "        zmax=np.max( np.log10(2) ),\n",
    "        colorbar=dict(\n",
    "            title=\"logAbs(E)\",\n",
    "            tickvals= np.logspace( 1e-10, 2, 4),\n",
    "            ticktext= [f\"{1e-10}\",\"0.1\",\"1\",\"2\",f\"{2}\"]\n",
    "        )\n",
    "    ))\n",
    "    \n",
    "    # Update layout\n",
    "    fig.update_layout(\n",
    "        title=f\"Abs(E) = {i}\",\n",
    "        xaxis=dict(\n",
    "        title='X Axis',\n",
    "        tickfont=dict(size=18)  # Adjust font size for x-axis numbers\n",
    "    ),\n",
    "    yaxis=dict(\n",
    "        title='Y Axis',\n",
    "        tickfont=dict(size=18)  # Adjust font size for y-axis numbers\n",
    "    ),\n",
    "    )\n",
    "    \n",
    "    # Show the plot\n",
    "    #pio.write_image(fig, f\"{folder_path}/E_field(t)={i}\", format=\"png\")\n",
    "    img_bytes = fig.to_image(format=\"png\",width=900,height=700)\n",
    "    img = imageio.imread(img_bytes)\n",
    "    images.append(img)\n",
    "    #fig.show()\n",
    "\n",
    "imageio.mimsave(f'{output_gif}', images, duration=250)"
   ]
  },
  {
   "cell_type": "markdown",
   "id": "b22c3a23-7c53-496f-9ea9-397d1df3a251",
   "metadata": {},
   "source": [
    "## Plot data HDF5: Electric Field 3D"
   ]
  },
  {
   "cell_type": "code",
   "execution_count": 4,
   "id": "579a522f-47ea-4210-a79b-db8ad07e71d9",
   "metadata": {},
   "outputs": [],
   "source": [
    "grid = f[\"n_e\"][:]"
   ]
  },
  {
   "cell_type": "code",
   "execution_count": 5,
   "id": "e7150ada-4ebb-4af4-93a7-1f2678736fa2",
   "metadata": {},
   "outputs": [
    {
     "name": "stdout",
     "output_type": "stream",
     "text": [
      "Shape: (100, 100, 200)\n",
      "Data Type (dtype): float64\n",
      "Size: 2000000\n"
     ]
    }
   ],
   "source": [
    "print(f\"Shape: {grid.shape}\")  # Shape of the dataset (dimensions)\n",
    "print(f\"Data Type (dtype): {grid.dtype}\")  # Data type of the elements\n",
    "print(f\"Size: {grid.size}\")  # Total number of elements in the dataset"
   ]
  },
  {
   "cell_type": "code",
   "execution_count": 6,
   "id": "976175a3-10fc-41c2-a5aa-68acc68ed28f",
   "metadata": {},
   "outputs": [],
   "source": [
    "# Generate the coordinate grid for the 3D volume (X, Y, Z)\n",
    "x = grid.shape[0]\n",
    "y = grid.shape[1]\n",
    "z = grid.shape[2]\n",
    "X, Y, Z = np.mgrid[ 0:x:x*1j, 0:y:y*1j, 0:z:z*1j ]"
   ]
  },
  {
   "cell_type": "code",
   "execution_count": 7,
   "id": "4a6f84f3-109b-4e85-86e0-45674a19c901",
   "metadata": {},
   "outputs": [],
   "source": [
    "# Create a 3D Volume Plot using Plotly\n",
    "fig = go.Figure(data=go.Volume(\n",
    "    x=X.flatten(),                 # X-coordinates\n",
    "    y=Y.flatten(),                 # Y-coordinates\n",
    "    z=Z.flatten(),                 # Z-coordinates\n",
    "    value = grid.flatten(),     # Flattened volume data\n",
    "    isomin=0.01,                    # Minimum value to display\n",
    "    isomax=np.max(grid),        # Maximum value to display\n",
    "    opacity=0.2,                   # Adjust opacity (between 0 and 1) for better visualization\n",
    "    surface_count=5,              # Number of volume surfaces to display\n",
    "    colorscale='jet',           # Choose a colorscale\n",
    "))\n",
    "\n",
    "# Update layout\n",
    "fig.update_layout(scene=dict(\n",
    "    xaxis_title='X Axis',\n",
    "    yaxis_title='Y Axis',\n",
    "    zaxis_title='Z Axis'\n",
    "))\n",
    "\n",
    "# Show the plot\n",
    "fig.show()"
   ]
  },
  {
   "cell_type": "code",
   "execution_count": 4,
   "id": "10b05017-d647-4e28-a221-bf9e2a4db1bf",
   "metadata": {},
   "outputs": [
    {
     "name": "stdout",
     "output_type": "stream",
     "text": [
      "Shape: (200, 150, 100)\n",
      "Data Type (dtype): float64\n",
      "Size: 3000000\n"
     ]
    }
   ],
   "source": [
    "E_field_ds = f['E_abs__tint64'][:]\n",
    "print(f\"Shape: {E_field_ds.shape}\")  # Shape of the dataset (dimensions)\n",
    "print(f\"Data Type (dtype): {E_field_ds.dtype}\")  # Data type of the elements\n",
    "print(f\"Size: {E_field_ds.size}\")  # Total number of elements in the dataset"
   ]
  },
  {
   "cell_type": "markdown",
   "id": "591542c8-6a18-461d-9002-37a6a78667aa",
   "metadata": {},
   "source": [
    "## Magnetic field"
   ]
  },
  {
   "cell_type": "code",
   "execution_count": 16,
   "id": "ef0c1fdc-8a8d-4da6-819e-39cc176f0ea9",
   "metadata": {},
   "outputs": [
    {
     "name": "stdout",
     "output_type": "stream",
     "text": [
      "Shape: (150, 150, 200)\n",
      "Data Type (dtype): float64\n",
      "Size: 4500000\n"
     ]
    }
   ],
   "source": [
    "B_field_ds = E_f['B_abs'][:]\n",
    "print(f\"Shape: {B_field_ds.shape}\")  # Shape of the dataset (dimensions)\n",
    "print(f\"Data Type (dtype): {B_field_ds.dtype}\")  # Data type of the elements\n",
    "print(f\"Size: {B_field_ds.size}\")  # Total number of elements in the dataset"
   ]
  },
  {
   "cell_type": "code",
   "execution_count": 17,
   "id": "a047d95a-c72a-484b-88f6-3a34e14a26eb",
   "metadata": {},
   "outputs": [],
   "source": [
    "# Create a 3D Volume Plot using Plotly\n",
    "fig = go.Figure(data=go.Volume(\n",
    "    x=X.flatten(),                 # X-coordinates\n",
    "    y=Y.flatten(),                 # Y-coordinates\n",
    "    z=Z.flatten(),                 # Z-coordinates\n",
    "    value = B_field_ds.flatten(),     # Flattened volume data\n",
    "    isomin=0.2,                    # Minimum value to display\n",
    "    isomax=np.max(B_field_ds),        # Maximum value to display\n",
    "    opacity=0.3,                   # Adjust opacity (between 0 and 1) for better visualization\n",
    "    surface_count=10,              # Number of volume surfaces to display\n",
    "    colorscale='plasma',           # Choose a colorscale\n",
    "))\n",
    "\n",
    "# Update layout\n",
    "fig.update_layout(scene=dict(\n",
    "    xaxis_title='X Axis',\n",
    "    yaxis_title='Y Axis',\n",
    "    zaxis_title='Z Axis'\n",
    "))\n",
    "\n",
    "# Show the plot\n",
    "fig.show()"
   ]
  },
  {
   "cell_type": "markdown",
   "id": "7fe8b521-fa81-4f4c-a75d-e5fedb344ea3",
   "metadata": {},
   "source": [
    "### Plot PML boundary"
   ]
  },
  {
   "cell_type": "code",
   "execution_count": 7,
   "id": "fcc750ed-3422-470f-a306-0e0fb543da09",
   "metadata": {},
   "outputs": [
    {
     "data": {
      "text/plain": [
       "array([  0.        ,   1.00502513,   2.01005025,   3.01507538,\n",
       "         4.0201005 ,   5.02512563,   6.03015075,   7.03517588,\n",
       "         8.04020101,   9.04522613,  10.05025126,  11.05527638,\n",
       "        12.06030151,  13.06532663,  14.07035176,  15.07537688,\n",
       "        16.08040201,  17.08542714,  18.09045226,  19.09547739,\n",
       "        20.10050251,  21.10552764,  22.11055276,  23.11557789,\n",
       "        24.12060302,  25.12562814,  26.13065327,  27.13567839,\n",
       "        28.14070352,  29.14572864,  30.15075377,  31.15577889,\n",
       "        32.16080402,  33.16582915,  34.17085427,  35.1758794 ,\n",
       "        36.18090452,  37.18592965,  38.19095477,  39.1959799 ,\n",
       "        40.20100503,  41.20603015,  42.21105528,  43.2160804 ,\n",
       "        44.22110553,  45.22613065,  46.23115578,  47.2361809 ,\n",
       "        48.24120603,  49.24623116,  50.25125628,  51.25628141,\n",
       "        52.26130653,  53.26633166,  54.27135678,  55.27638191,\n",
       "        56.28140704,  57.28643216,  58.29145729,  59.29648241,\n",
       "        60.30150754,  61.30653266,  62.31155779,  63.31658291,\n",
       "        64.32160804,  65.32663317,  66.33165829,  67.33668342,\n",
       "        68.34170854,  69.34673367,  70.35175879,  71.35678392,\n",
       "        72.36180905,  73.36683417,  74.3718593 ,  75.37688442,\n",
       "        76.38190955,  77.38693467,  78.3919598 ,  79.39698492,\n",
       "        80.40201005,  81.40703518,  82.4120603 ,  83.41708543,\n",
       "        84.42211055,  85.42713568,  86.4321608 ,  87.43718593,\n",
       "        88.44221106,  89.44723618,  90.45226131,  91.45728643,\n",
       "        92.46231156,  93.46733668,  94.47236181,  95.47738693,\n",
       "        96.48241206,  97.48743719,  98.49246231,  99.49748744,\n",
       "       100.50251256, 101.50753769, 102.51256281, 103.51758794,\n",
       "       104.52261307, 105.52763819, 106.53266332, 107.53768844,\n",
       "       108.54271357, 109.54773869, 110.55276382, 111.55778894,\n",
       "       112.56281407, 113.5678392 , 114.57286432, 115.57788945,\n",
       "       116.58291457, 117.5879397 , 118.59296482, 119.59798995,\n",
       "       120.60301508, 121.6080402 , 122.61306533, 123.61809045,\n",
       "       124.62311558, 125.6281407 , 126.63316583, 127.63819095,\n",
       "       128.64321608, 129.64824121, 130.65326633, 131.65829146,\n",
       "       132.66331658, 133.66834171, 134.67336683, 135.67839196,\n",
       "       136.68341709, 137.68844221, 138.69346734, 139.69849246,\n",
       "       140.70351759, 141.70854271, 142.71356784, 143.71859296,\n",
       "       144.72361809, 145.72864322, 146.73366834, 147.73869347,\n",
       "       148.74371859, 149.74874372, 150.75376884, 151.75879397,\n",
       "       152.7638191 , 153.76884422, 154.77386935, 155.77889447,\n",
       "       156.7839196 , 157.78894472, 158.79396985, 159.79899497,\n",
       "       160.8040201 , 161.80904523, 162.81407035, 163.81909548,\n",
       "       164.8241206 , 165.82914573, 166.83417085, 167.83919598,\n",
       "       168.84422111, 169.84924623, 170.85427136, 171.85929648,\n",
       "       172.86432161, 173.86934673, 174.87437186, 175.87939698,\n",
       "       176.88442211, 177.88944724, 178.89447236, 179.89949749,\n",
       "       180.90452261, 181.90954774, 182.91457286, 183.91959799,\n",
       "       184.92462312, 185.92964824, 186.93467337, 187.93969849,\n",
       "       188.94472362, 189.94974874, 190.95477387, 191.95979899,\n",
       "       192.96482412, 193.96984925, 194.97487437, 195.9798995 ,\n",
       "       196.98492462, 197.98994975, 198.99497487, 200.        ])"
      ]
     },
     "execution_count": 7,
     "metadata": {},
     "output_type": "execute_result"
    }
   ],
   "source": [
    "E_field_ds = f[f'E_abs__tint00800'][:]\n",
    "x_data = E_field_ds[:, 75, 50]\n",
    "y_data = E_field_ds[100, :, 50]\n",
    "z_data = E_field_ds[100, 75,:]\n",
    "x_pos = np.linspace(0,200,len(x_data) )\n",
    "x_pos"
   ]
  },
  {
   "cell_type": "code",
   "execution_count": 12,
   "id": "ae0d8616-7472-44c5-a8d0-5d691b3ab855",
   "metadata": {},
   "outputs": [
    {
     "ename": "ValueError",
     "evalue": "Value of 'x' is not the name of a column in 'data_frame'. Expected one of [0] but received: Z Position",
     "output_type": "error",
     "traceback": [
      "\u001b[0;31m---------------------------------------------------------------------------\u001b[0m",
      "\u001b[0;31mValueError\u001b[0m                                Traceback (most recent call last)",
      "Cell \u001b[0;32mIn[12], line 1\u001b[0m\n\u001b[0;32m----> 1\u001b[0m fig \u001b[38;5;241m=\u001b[39m \u001b[43mpx\u001b[49m\u001b[38;5;241;43m.\u001b[39;49m\u001b[43mscatter\u001b[49m\u001b[43m(\u001b[49m\u001b[43mz_data\u001b[49m\u001b[43m,\u001b[49m\u001b[43m \u001b[49m\u001b[43mx\u001b[49m\u001b[38;5;241;43m=\u001b[39;49m\u001b[38;5;124;43m\"\u001b[39;49m\u001b[38;5;124;43mZ Position\u001b[39;49m\u001b[38;5;124;43m\"\u001b[39;49m\u001b[43m,\u001b[49m\u001b[43m \u001b[49m\u001b[43my\u001b[49m\u001b[38;5;241;43m=\u001b[39;49m\u001b[38;5;124;43m\"\u001b[39;49m\u001b[38;5;124;43mWave Amplitude\u001b[39;49m\u001b[38;5;124;43m\"\u001b[39;49m\u001b[43m)\u001b[49m\n\u001b[1;32m      2\u001b[0m fig\u001b[38;5;241m.\u001b[39mshow()\n",
      "File \u001b[0;32m~/miniconda3/envs/Science/lib/python3.8/site-packages/plotly/express/_chart_types.py:66\u001b[0m, in \u001b[0;36mscatter\u001b[0;34m(data_frame, x, y, color, symbol, size, hover_name, hover_data, custom_data, text, facet_row, facet_col, facet_col_wrap, facet_row_spacing, facet_col_spacing, error_x, error_x_minus, error_y, error_y_minus, animation_frame, animation_group, category_orders, labels, orientation, color_discrete_sequence, color_discrete_map, color_continuous_scale, range_color, color_continuous_midpoint, symbol_sequence, symbol_map, opacity, size_max, marginal_x, marginal_y, trendline, trendline_options, trendline_color_override, trendline_scope, log_x, log_y, range_x, range_y, render_mode, title, template, width, height)\u001b[0m\n\u001b[1;32m     12\u001b[0m \u001b[38;5;28;01mdef\u001b[39;00m \u001b[38;5;21mscatter\u001b[39m(\n\u001b[1;32m     13\u001b[0m     data_frame\u001b[38;5;241m=\u001b[39m\u001b[38;5;28;01mNone\u001b[39;00m,\n\u001b[1;32m     14\u001b[0m     x\u001b[38;5;241m=\u001b[39m\u001b[38;5;28;01mNone\u001b[39;00m,\n\u001b[0;32m   (...)\u001b[0m\n\u001b[1;32m     60\u001b[0m     height\u001b[38;5;241m=\u001b[39m\u001b[38;5;28;01mNone\u001b[39;00m,\n\u001b[1;32m     61\u001b[0m ) \u001b[38;5;241m-\u001b[39m\u001b[38;5;241m>\u001b[39m go\u001b[38;5;241m.\u001b[39mFigure:\n\u001b[1;32m     62\u001b[0m \u001b[38;5;250m    \u001b[39m\u001b[38;5;124;03m\"\"\"\u001b[39;00m\n\u001b[1;32m     63\u001b[0m \u001b[38;5;124;03m    In a scatter plot, each row of `data_frame` is represented by a symbol\u001b[39;00m\n\u001b[1;32m     64\u001b[0m \u001b[38;5;124;03m    mark in 2D space.\u001b[39;00m\n\u001b[1;32m     65\u001b[0m \u001b[38;5;124;03m    \"\"\"\u001b[39;00m\n\u001b[0;32m---> 66\u001b[0m     \u001b[38;5;28;01mreturn\u001b[39;00m \u001b[43mmake_figure\u001b[49m\u001b[43m(\u001b[49m\u001b[43margs\u001b[49m\u001b[38;5;241;43m=\u001b[39;49m\u001b[38;5;28;43mlocals\u001b[39;49m\u001b[43m(\u001b[49m\u001b[43m)\u001b[49m\u001b[43m,\u001b[49m\u001b[43m \u001b[49m\u001b[43mconstructor\u001b[49m\u001b[38;5;241;43m=\u001b[39;49m\u001b[43mgo\u001b[49m\u001b[38;5;241;43m.\u001b[39;49m\u001b[43mScatter\u001b[49m\u001b[43m)\u001b[49m\n",
      "File \u001b[0;32m~/miniconda3/envs/Science/lib/python3.8/site-packages/plotly/express/_core.py:1996\u001b[0m, in \u001b[0;36mmake_figure\u001b[0;34m(args, constructor, trace_patch, layout_patch)\u001b[0m\n\u001b[1;32m   1993\u001b[0m layout_patch \u001b[38;5;241m=\u001b[39m layout_patch \u001b[38;5;129;01mor\u001b[39;00m {}\n\u001b[1;32m   1994\u001b[0m apply_default_cascade(args)\n\u001b[0;32m-> 1996\u001b[0m args \u001b[38;5;241m=\u001b[39m \u001b[43mbuild_dataframe\u001b[49m\u001b[43m(\u001b[49m\u001b[43margs\u001b[49m\u001b[43m,\u001b[49m\u001b[43m \u001b[49m\u001b[43mconstructor\u001b[49m\u001b[43m)\u001b[49m\n\u001b[1;32m   1997\u001b[0m \u001b[38;5;28;01mif\u001b[39;00m constructor \u001b[38;5;129;01min\u001b[39;00m [go\u001b[38;5;241m.\u001b[39mTreemap, go\u001b[38;5;241m.\u001b[39mSunburst, go\u001b[38;5;241m.\u001b[39mIcicle] \u001b[38;5;129;01mand\u001b[39;00m args[\u001b[38;5;124m\"\u001b[39m\u001b[38;5;124mpath\u001b[39m\u001b[38;5;124m\"\u001b[39m] \u001b[38;5;129;01mis\u001b[39;00m \u001b[38;5;129;01mnot\u001b[39;00m \u001b[38;5;28;01mNone\u001b[39;00m:\n\u001b[1;32m   1998\u001b[0m     args \u001b[38;5;241m=\u001b[39m process_dataframe_hierarchy(args)\n",
      "File \u001b[0;32m~/miniconda3/envs/Science/lib/python3.8/site-packages/plotly/express/_core.py:1409\u001b[0m, in \u001b[0;36mbuild_dataframe\u001b[0;34m(args, constructor)\u001b[0m\n\u001b[1;32m   1406\u001b[0m     args[\u001b[38;5;124m\"\u001b[39m\u001b[38;5;124mcolor\u001b[39m\u001b[38;5;124m\"\u001b[39m] \u001b[38;5;241m=\u001b[39m \u001b[38;5;28;01mNone\u001b[39;00m\n\u001b[1;32m   1407\u001b[0m \u001b[38;5;66;03m# now that things have been prepped, we do the systematic rewriting of `args`\u001b[39;00m\n\u001b[0;32m-> 1409\u001b[0m df_output, wide_id_vars \u001b[38;5;241m=\u001b[39m \u001b[43mprocess_args_into_dataframe\u001b[49m\u001b[43m(\u001b[49m\n\u001b[1;32m   1410\u001b[0m \u001b[43m    \u001b[49m\u001b[43margs\u001b[49m\u001b[43m,\u001b[49m\u001b[43m \u001b[49m\u001b[43mwide_mode\u001b[49m\u001b[43m,\u001b[49m\u001b[43m \u001b[49m\u001b[43mvar_name\u001b[49m\u001b[43m,\u001b[49m\u001b[43m \u001b[49m\u001b[43mvalue_name\u001b[49m\n\u001b[1;32m   1411\u001b[0m \u001b[43m\u001b[49m\u001b[43m)\u001b[49m\n\u001b[1;32m   1413\u001b[0m \u001b[38;5;66;03m# now that `df_output` exists and `args` contains only references, we complete\u001b[39;00m\n\u001b[1;32m   1414\u001b[0m \u001b[38;5;66;03m# the special-case and wide-mode handling by further rewriting args and/or mutating\u001b[39;00m\n\u001b[1;32m   1415\u001b[0m \u001b[38;5;66;03m# df_output\u001b[39;00m\n\u001b[1;32m   1417\u001b[0m count_name \u001b[38;5;241m=\u001b[39m _escape_col_name(df_output, \u001b[38;5;124m\"\u001b[39m\u001b[38;5;124mcount\u001b[39m\u001b[38;5;124m\"\u001b[39m, [var_name, value_name])\n",
      "File \u001b[0;32m~/miniconda3/envs/Science/lib/python3.8/site-packages/plotly/express/_core.py:1208\u001b[0m, in \u001b[0;36mprocess_args_into_dataframe\u001b[0;34m(args, wide_mode, var_name, value_name)\u001b[0m\n\u001b[1;32m   1206\u001b[0m         \u001b[38;5;28;01mif\u001b[39;00m argument \u001b[38;5;241m==\u001b[39m \u001b[38;5;124m\"\u001b[39m\u001b[38;5;124mindex\u001b[39m\u001b[38;5;124m\"\u001b[39m:\n\u001b[1;32m   1207\u001b[0m             err_msg \u001b[38;5;241m+\u001b[39m\u001b[38;5;241m=\u001b[39m \u001b[38;5;124m\"\u001b[39m\u001b[38;5;130;01m\\n\u001b[39;00m\u001b[38;5;124m To use the index, pass it in directly as `df.index`.\u001b[39m\u001b[38;5;124m\"\u001b[39m\n\u001b[0;32m-> 1208\u001b[0m         \u001b[38;5;28;01mraise\u001b[39;00m \u001b[38;5;167;01mValueError\u001b[39;00m(err_msg)\n\u001b[1;32m   1209\u001b[0m \u001b[38;5;28;01melif\u001b[39;00m length \u001b[38;5;129;01mand\u001b[39;00m \u001b[38;5;28mlen\u001b[39m(df_input[argument]) \u001b[38;5;241m!=\u001b[39m length:\n\u001b[1;32m   1210\u001b[0m     \u001b[38;5;28;01mraise\u001b[39;00m \u001b[38;5;167;01mValueError\u001b[39;00m(\n\u001b[1;32m   1211\u001b[0m         \u001b[38;5;124m\"\u001b[39m\u001b[38;5;124mAll arguments should have the same length. \u001b[39m\u001b[38;5;124m\"\u001b[39m\n\u001b[1;32m   1212\u001b[0m         \u001b[38;5;124m\"\u001b[39m\u001b[38;5;124mThe length of column argument `df[\u001b[39m\u001b[38;5;132;01m%s\u001b[39;00m\u001b[38;5;124m]` is \u001b[39m\u001b[38;5;132;01m%d\u001b[39;00m\u001b[38;5;124m, whereas the \u001b[39m\u001b[38;5;124m\"\u001b[39m\n\u001b[0;32m   (...)\u001b[0m\n\u001b[1;32m   1219\u001b[0m         )\n\u001b[1;32m   1220\u001b[0m     )\n",
      "\u001b[0;31mValueError\u001b[0m: Value of 'x' is not the name of a column in 'data_frame'. Expected one of [0] but received: Z Position"
     ]
    }
   ],
   "source": [
    "fig = px.scatter(z_data)\n",
    "fig.show()"
   ]
  },
  {
   "cell_type": "code",
   "execution_count": 2,
   "id": "9f5b647e-afa1-45b5-8838-666d69c156a3",
   "metadata": {},
   "outputs": [
    {
     "data": {
      "text/html": [
       "<div>\n",
       "<style scoped>\n",
       "    .dataframe tbody tr th:only-of-type {\n",
       "        vertical-align: middle;\n",
       "    }\n",
       "\n",
       "    .dataframe tbody tr th {\n",
       "        vertical-align: top;\n",
       "    }\n",
       "\n",
       "    .dataframe thead th {\n",
       "        text-align: right;\n",
       "    }\n",
       "</style>\n",
       "<table border=\"1\" class=\"dataframe\">\n",
       "  <thead>\n",
       "    <tr style=\"text-align: right;\">\n",
       "      <th></th>\n",
       "      <th>Pos</th>\n",
       "      <th>Value</th>\n",
       "    </tr>\n",
       "  </thead>\n",
       "  <tbody>\n",
       "    <tr>\n",
       "      <th>0</th>\n",
       "      <td>0</td>\n",
       "      <td>0.000000e+00</td>\n",
       "    </tr>\n",
       "    <tr>\n",
       "      <th>1</th>\n",
       "      <td>1</td>\n",
       "      <td>1.343000e-07</td>\n",
       "    </tr>\n",
       "    <tr>\n",
       "      <th>2</th>\n",
       "      <td>2</td>\n",
       "      <td>5.176500e-06</td>\n",
       "    </tr>\n",
       "    <tr>\n",
       "      <th>3</th>\n",
       "      <td>3</td>\n",
       "      <td>4.711900e-05</td>\n",
       "    </tr>\n",
       "    <tr>\n",
       "      <th>4</th>\n",
       "      <td>4</td>\n",
       "      <td>1.967513e-04</td>\n",
       "    </tr>\n",
       "    <tr>\n",
       "      <th>...</th>\n",
       "      <td>...</td>\n",
       "      <td>...</td>\n",
       "    </tr>\n",
       "    <tr>\n",
       "      <th>796</th>\n",
       "      <td>796</td>\n",
       "      <td>2.035447e+04</td>\n",
       "    </tr>\n",
       "    <tr>\n",
       "      <th>797</th>\n",
       "      <td>797</td>\n",
       "      <td>2.057337e+04</td>\n",
       "    </tr>\n",
       "    <tr>\n",
       "      <th>798</th>\n",
       "      <td>798</td>\n",
       "      <td>2.090130e+04</td>\n",
       "    </tr>\n",
       "    <tr>\n",
       "      <th>799</th>\n",
       "      <td>799</td>\n",
       "      <td>2.114615e+04</td>\n",
       "    </tr>\n",
       "    <tr>\n",
       "      <th>800</th>\n",
       "      <td>800</td>\n",
       "      <td>2.116458e+04</td>\n",
       "    </tr>\n",
       "  </tbody>\n",
       "</table>\n",
       "<p>801 rows × 2 columns</p>\n",
       "</div>"
      ],
      "text/plain": [
       "     Pos         Value\n",
       "0      0  0.000000e+00\n",
       "1      1  1.343000e-07\n",
       "2      2  5.176500e-06\n",
       "3      3  4.711900e-05\n",
       "4      4  1.967513e-04\n",
       "..   ...           ...\n",
       "796  796  2.035447e+04\n",
       "797  797  2.057337e+04\n",
       "798  798  2.090130e+04\n",
       "799  799  2.114615e+04\n",
       "800  800  2.116458e+04\n",
       "\n",
       "[801 rows x 2 columns]"
      ]
     },
     "execution_count": 2,
     "metadata": {},
     "output_type": "execute_result"
    }
   ],
   "source": [
    "i = 1\n",
    "data = pd.read_csv(f\"../Antenna_detector/PML_energy/Energy_density.txt\")\n",
    "data"
   ]
  },
  {
   "cell_type": "code",
   "execution_count": 6,
   "id": "1440ca3b-2378-4b96-9f45-c3797654f598",
   "metadata": {},
   "outputs": [],
   "source": [
    "plt.plot(data[\"Pos\"], data[\"Value\"],\"navy\",)\n",
    "plt.title(\"Energy Density (full grid)\")\n",
    "plt.xlabel(\"Simulation Time\")\n",
    "plt.ylabel(r\"Energy ($E^2/2 + B^2/2$)\")\n",
    "plt.savefig(\"EnergyDensity_PML.png\", dpi=600)\n",
    "plt.show()"
   ]
  },
  {
   "cell_type": "code",
   "execution_count": null,
   "id": "8e82f931-4441-4ec9-80d9-94d8516b6727",
   "metadata": {},
   "outputs": [],
   "source": []
  }
 ],
 "metadata": {
  "kernelspec": {
   "display_name": "Python 3 (ipykernel)",
   "language": "python",
   "name": "python3"
  },
  "language_info": {
   "codemirror_mode": {
    "name": "ipython",
    "version": 3
   },
   "file_extension": ".py",
   "mimetype": "text/x-python",
   "name": "python",
   "nbconvert_exporter": "python",
   "pygments_lexer": "ipython3",
   "version": "3.8.18"
  }
 },
 "nbformat": 4,
 "nbformat_minor": 5
}
