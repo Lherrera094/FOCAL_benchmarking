{
 "cells": [
  {
   "cell_type": "markdown",
   "id": "c4c0a7eb-262d-44db-89a3-ea87f8435064",
   "metadata": {},
   "source": [
    "# FOCAL BENCHMARKING"
   ]
  },
  {
   "cell_type": "markdown",
   "id": "1b178a04-2896-4372-9d09-1f51194745b5",
   "metadata": {},
   "source": [
    "This benchmarking uses normmalized units: $$e = m_e = \\epsilon_0 = c = \\mu_0 = 1 $$ \n",
    "* The plasma density $$n_0 = 2  \\rightarrow  \\omega^2_p = 2$$\n",
    "* The magnetic field $$B_0 = 2 \\rightarrow \\omega_{ce} = 2$$\n",
    "  Note: ion motion is neglected."
   ]
  },
  {
   "cell_type": "code",
   "execution_count": 1,
   "id": "40b48034-6414-4485-a28f-3a19332d4c8d",
   "metadata": {},
   "outputs": [],
   "source": [
    "#import libraries\n",
    "import numpy as np\n",
    "import math as mp\n",
    "import matplotlib.pyplot as plt"
   ]
  },
  {
   "cell_type": "code",
   "execution_count": 2,
   "id": "5eeaf733-ad6c-4427-8517-1a81ce99d007",
   "metadata": {},
   "outputs": [],
   "source": [
    "#Initialize plasma and cyclotron frequency\n",
    "omega2_p = 2\n",
    "omega_ce = 2"
   ]
  },
  {
   "cell_type": "markdown",
   "id": "87f229cd-a90b-4246-8a7d-13a015e2ec29",
   "metadata": {},
   "source": [
    "## Parallel Propagation: Right-handed wave"
   ]
  },
  {
   "cell_type": "markdown",
   "id": "287c766e-30e8-47ad-8e65-c78a9f5b7a37",
   "metadata": {},
   "source": [
    "* Dispertion relation: \n",
    "$$n^2_R = \\frac{k^2}{\\omega^2} = 1 - \\frac{\\omega^2_p}{\\omega(\\omega - \\omega_{ce})}$$\n",
    "-Resonant mode at $\\omega=\\omega_{ce}$. <br>\n",
    "-Cutoff frequency\n",
    "$$\\omega_R = \\frac{\\omega_{ce}}{2} + \\sqrt{(\\frac{\\omega_{ce}}{2})^2 + \\omega^2_p}$$"
   ]
  },
  {
   "cell_type": "code",
   "execution_count": 3,
   "id": "38ca5577-0533-465f-a042-629b9308a717",
   "metadata": {},
   "outputs": [],
   "source": [
    "f_cut_R = 1 + np.sqrt(3)\n",
    "omega_iR = np.linspace(0.3, omega_ce-0.05,10000)\n",
    "omega_fR = np.linspace(omega_ce+0.0001, f_cut_R,10000)"
   ]
  },
  {
   "cell_type": "code",
   "execution_count": 5,
   "id": "2eb6ea9e-23e8-448a-b3e2-e876871185e7",
   "metadata": {},
   "outputs": [],
   "source": [
    "#Compute the values of the wavevector K\n",
    "k_iR = np.sqrt( (omega_iR**2) - ((omega_iR*omega2_p)/( omega_iR - omega_ce ) ) ) #\\omega < \\omega_ce\n",
    "k_fR = np.sqrt( (omega_fR**2) - ((omega_fR*omega2_p)/( omega_fR + omega_ce ) ) ) #\\omega > \\omega_ce"
   ]
  },
  {
   "cell_type": "code",
   "execution_count": 6,
   "id": "fd34be16-9b29-414e-8b7f-8e97a6580756",
   "metadata": {},
   "outputs": [],
   "source": [
    "plt.plot(k_iR, omega_iR, \"navy\", label= r\"$$\\omega < \\omega_{ce}$$\" )\n",
    "plt.plot(k_fR, omega_fR, \"red\", label = r\"$$\\omega > \\omega_{ce}$$\" )\n",
    "plt.axhline(omega_ce, color=\"purple\", label = r\"$\\omega_{ce}$\")\n",
    "plt.axhline(f_cut_R, color=\"darkgreen\", label = r\"$\\omega_{cutoff}$\")\n",
    "plt.title(\"Right-handed Wave Dispersion Relation\")\n",
    "plt.xlabel(\"Wavenumber(k)\")\n",
    "plt.ylabel(r\"Frequency ($\\omega$)\")\n",
    "plt.grid(True)\n",
    "plt.legend()\n",
    "plt.savefig(\"right-hand_dr.png\", dpi = 800)\n",
    "plt.show()"
   ]
  },
  {
   "cell_type": "markdown",
   "id": "db3caf7b-e146-4260-9d35-7d47b6b69b75",
   "metadata": {},
   "source": [
    "## Left-handed wave"
   ]
  },
  {
   "cell_type": "markdown",
   "id": "da243d20-c0f2-47eb-8b1f-2ec90b54f84a",
   "metadata": {},
   "source": [
    "* Dispertion relation: \n",
    "$$n^2_L = \\frac{k^2}{\\omega^2} = 1 - \\frac{\\omega^2_p}{\\omega(\\omega + \\omega_{ce})}$$\n",
    "-Cutoff frequency\n",
    "$$\\omega_L = -\\frac{\\omega_{ce}}{2} + \\sqrt{(\\frac{\\omega_{ce}}{2})^2 + \\omega^2_p}$$\n",
    "For this wave, resonance is at $\\omega = \\omega_{ci}$"
   ]
  },
  {
   "cell_type": "code",
   "execution_count": 8,
   "id": "2713c52f-74c6-4349-bd83-c05dd2112d46",
   "metadata": {},
   "outputs": [],
   "source": [
    "f_cut_L = -1 + np.sqrt(3)\n",
    "omega_iL = np.linspace(0.7, omega_ce-0.05,10000)"
   ]
  },
  {
   "cell_type": "code",
   "execution_count": 9,
   "id": "4f9e857c-6836-452c-bd84-5b4669868259",
   "metadata": {},
   "outputs": [
    {
     "name": "stderr",
     "output_type": "stream",
     "text": [
      "/tmp/ipykernel_12536/1111847684.py:2: RuntimeWarning: invalid value encountered in sqrt\n",
      "  k_iL = np.sqrt( (omega_iL**2) - ((omega_iL*omega2_p)/( omega_iL + omega_ce ) ) ) #\\omega < \\omega_ce\n"
     ]
    }
   ],
   "source": [
    "#Compute the values of the wavevector K\n",
    "k_iL = np.sqrt( (omega_iL**2) - ((omega_iL*omega2_p)/( omega_iL + omega_ce ) ) ) #\\omega < \\omega_ce "
   ]
  },
  {
   "cell_type": "code",
   "execution_count": 10,
   "id": "341cbcb4-fb30-4ee7-9cae-4d5d292ca21a",
   "metadata": {},
   "outputs": [],
   "source": [
    "plt.plot(k_iL, omega_iL, \"navy\" )\n",
    "plt.axhline(omega_ce, color=\"purple\", label = r\"$\\omega_{ce}$\")\n",
    "plt.axhline(f_cut_L, color=\"darkgreen\", label = r\"$\\omega_{cutoff}$\")\n",
    "plt.title(\"Left-handed Wave Dispersion Relation\")\n",
    "plt.xlabel(\"Wavenumber(k)\")\n",
    "plt.ylabel(r\"Frequency ($\\omega$)\")\n",
    "plt.grid(True)\n",
    "plt.legend()\n",
    "plt.savefig(\"left-hand_dr.png\", dpi = 800)\n",
    "plt.show()"
   ]
  },
  {
   "cell_type": "markdown",
   "id": "9aac2a8f-8c50-4dfd-9ec9-b16e3a8c4011",
   "metadata": {},
   "source": [
    "## Perpendicular Propagation: Ordinary and Extraordinary wave"
   ]
  },
  {
   "cell_type": "markdown",
   "id": "5a15cdc8-6f38-4154-8320-5cce785c300e",
   "metadata": {},
   "source": [
    "* Dispertion relation(Ordinary wave): \n",
    "$$n^2_O = \\frac{k^2}{\\omega^2} = 1 - \\frac{\\omega^2_p}{\\omega^2}$$\n",
    "-Cutoff frequency\n",
    "$$\\omega_O = \\omega_p$$\n",
    "For this wave, there is no resonance."
   ]
  },
  {
   "cell_type": "code",
   "execution_count": 11,
   "id": "206a3ab9-a310-42da-be89-41d124fcf960",
   "metadata": {},
   "outputs": [],
   "source": [
    "f_cut_O = np.sqrt(omega2_p)\n",
    "k_iO = np.linspace(0.0, omega_ce,10000)"
   ]
  },
  {
   "cell_type": "code",
   "execution_count": 12,
   "id": "dac2f0b0-8eda-48a8-b2e0-ca12ba4f0a1d",
   "metadata": {},
   "outputs": [],
   "source": [
    "#Compute the values of the wave frequency\n",
    "omega_iO = np.sqrt( (k_iO**2) + omega2_p )"
   ]
  },
  {
   "cell_type": "code",
   "execution_count": 14,
   "id": "47cc08a0-c40c-4015-bac1-8d89145d7e2d",
   "metadata": {},
   "outputs": [],
   "source": [
    "plt.plot(k_iO, omega_iO, \"navy\", label= r\"Ordinary wave\" )\n",
    "plt.axhline(omega_ce, color=\"purple\", label = r\"$\\omega_{ce}$\")\n",
    "plt.title(\"Perpendicular Propagation Dispersion Relation\")\n",
    "plt.xlabel(\"Wavenumber(k)\")\n",
    "plt.ylabel(r\"Frequency ($\\omega$)\")\n",
    "plt.grid(True)\n",
    "plt.legend()\n",
    "plt.savefig(\"ordinary_dr.png\", dpi = 800)\n",
    "plt.show()"
   ]
  },
  {
   "cell_type": "code",
   "execution_count": null,
   "id": "5a66c113-8fcd-40d4-b416-54cbf6d18c5f",
   "metadata": {},
   "outputs": [],
   "source": []
  }
 ],
 "metadata": {
  "kernelspec": {
   "display_name": "Python 3 (ipykernel)",
   "language": "python",
   "name": "python3"
  },
  "language_info": {
   "codemirror_mode": {
    "name": "ipython",
    "version": 3
   },
   "file_extension": ".py",
   "mimetype": "text/x-python",
   "name": "python",
   "nbconvert_exporter": "python",
   "pygments_lexer": "ipython3",
   "version": "3.8.18"
  }
 },
 "nbformat": 4,
 "nbformat_minor": 5
}
